{
 "cells": [
  {
   "cell_type": "markdown",
   "id": "437a4d67",
   "metadata": {},
   "source": [
    "# TOPIC: String Based Assignment Problem"
   ]
  },
  {
   "cell_type": "code",
   "execution_count": null,
   "id": "f8954102",
   "metadata": {},
   "outputs": [],
   "source": []
  },
  {
   "cell_type": "code",
   "execution_count": 1,
   "id": "68a77ac4",
   "metadata": {},
   "outputs": [
    {
     "name": "stdout",
     "output_type": "stream",
     "text": [
      "remmus\n"
     ]
    }
   ],
   "source": [
    "#1. Write a program to reverse a string.\n",
    "\n",
    "string=\"summer\"\n",
    "\n",
    "print(string[::-1])\n",
    "\n"
   ]
  },
  {
   "cell_type": "code",
   "execution_count": 8,
   "id": "17001e07",
   "metadata": {},
   "outputs": [
    {
     "name": "stdout",
     "output_type": "stream",
     "text": [
      "remmus\n"
     ]
    }
   ],
   "source": [
    "string=\"summer\"\n",
    "\n",
    "lst=list(string)\n",
    "\n",
    "\n",
    "x=''.join([lst[i] for i in range(len(lst)-1,-1,-1)])\n",
    "print(x)"
   ]
  },
  {
   "cell_type": "code",
   "execution_count": 10,
   "id": "66ee8568",
   "metadata": {},
   "outputs": [
    {
     "name": "stdout",
     "output_type": "stream",
     "text": [
      "yes\n"
     ]
    }
   ],
   "source": [
    "#2. Check if a string is a palindrome.\n",
    "\n",
    "string=\"tenet\"\n",
    "if string==string[::-1]:\n",
    "    print('yes')"
   ]
  },
  {
   "cell_type": "code",
   "execution_count": 13,
   "id": "2b623648",
   "metadata": {},
   "outputs": [
    {
     "name": "stdout",
     "output_type": "stream",
     "text": [
      "TENET\n"
     ]
    }
   ],
   "source": [
    "#3. Convert a string to uppercase.\n",
    "\n",
    "string=\"tenet\"\n",
    "string=string.upper()\n",
    "\n",
    "print(string)"
   ]
  },
  {
   "cell_type": "code",
   "execution_count": 14,
   "id": "4b07f8b6",
   "metadata": {},
   "outputs": [
    {
     "name": "stdout",
     "output_type": "stream",
     "text": [
      "tod\n"
     ]
    }
   ],
   "source": [
    "#4. Convert a string to lowercase.\n",
    "\n",
    "string=\"Tod\"\n",
    "string=string.lower()\n",
    "\n",
    "print(string)"
   ]
  },
  {
   "cell_type": "code",
   "execution_count": 15,
   "id": "36f778f1",
   "metadata": {},
   "outputs": [
    {
     "name": "stdout",
     "output_type": "stream",
     "text": [
      "2\n"
     ]
    }
   ],
   "source": [
    "#5. Count the number of vowels in a string.\n",
    "\n",
    "vowels=['a','e','i','o','u','A','E','I','O','U']\n",
    "\n",
    "string='summer'\n",
    "\n",
    "c=0\n",
    "\n",
    "for i in string:\n",
    "    if i in vowels:\n",
    "        c+=1\n",
    "        \n",
    "print(c)"
   ]
  },
  {
   "cell_type": "code",
   "execution_count": 16,
   "id": "aa08691b",
   "metadata": {},
   "outputs": [
    {
     "name": "stdout",
     "output_type": "stream",
     "text": [
      "4\n"
     ]
    }
   ],
   "source": [
    "#6. Count the number of consonants in a string.\n",
    "\n",
    "vowels=['a','e','i','o','u','A','E','I','O','U']\n",
    "\n",
    "string='summer'\n",
    "\n",
    "c=0\n",
    "\n",
    "for i in string:\n",
    "    if i not in vowels:\n",
    "        c+=1\n",
    "        \n",
    "print(c)"
   ]
  },
  {
   "cell_type": "code",
   "execution_count": 18,
   "id": "fd36d86c",
   "metadata": {},
   "outputs": [
    {
     "name": "stdout",
     "output_type": "stream",
     "text": [
      "summer\n"
     ]
    }
   ],
   "source": [
    "#7. Remove all whitespaces from a string.\n",
    "\n",
    "string= ' s u mmer '\n",
    "\n",
    "lst=string.split()\n",
    "\n",
    "string2=''.join(lst)\n",
    "\n",
    "print(string2)\n"
   ]
  },
  {
   "cell_type": "code",
   "execution_count": 19,
   "id": "617f29ab",
   "metadata": {},
   "outputs": [
    {
     "name": "stdout",
     "output_type": "stream",
     "text": [
      "abcd\n"
     ]
    }
   ],
   "source": [
    "input_string = \"a b c d\"\n",
    "output_string = input_string.replace(\" \", \"\")\n",
    "print(output_string)"
   ]
  },
  {
   "cell_type": "code",
   "execution_count": 20,
   "id": "2adb4e46",
   "metadata": {},
   "outputs": [
    {
     "name": "stdout",
     "output_type": "stream",
     "text": [
      "6\n"
     ]
    }
   ],
   "source": [
    "#8. Find the length of a string without using the `len()` function.\n",
    "\n",
    "string= 'summer'\n",
    "\n",
    "c=0\n",
    "for i in string:\n",
    "    c=c+1\n",
    "print(c)"
   ]
  },
  {
   "cell_type": "code",
   "execution_count": 25,
   "id": "d20aba2c",
   "metadata": {},
   "outputs": [
    {
     "name": "stdout",
     "output_type": "stream",
     "text": [
      "yes\n"
     ]
    }
   ],
   "source": [
    "#9. Check if a string contains a specific word.\n",
    "\n",
    "word='nice'\n",
    "\n",
    "string='Ramisaniceguy.'\n",
    "\n",
    "if word in string:\n",
    "    print('yes')"
   ]
  },
  {
   "cell_type": "code",
   "execution_count": 29,
   "id": "469a9855",
   "metadata": {},
   "outputs": [
    {
     "name": "stdout",
     "output_type": "stream",
     "text": [
      "yes\n"
     ]
    }
   ],
   "source": [
    "word='nice'\n",
    "\n",
    "string='Ram is a nice guy.'\n",
    "\n",
    "if word in string:\n",
    "    print('yes')"
   ]
  },
  {
   "cell_type": "code",
   "execution_count": 30,
   "id": "1ea58e20",
   "metadata": {},
   "outputs": [
    {
     "name": "stdout",
     "output_type": "stream",
     "text": [
      "Ram is a nice man.\n"
     ]
    }
   ],
   "source": [
    "#10. Replace a word in a string with another word.\n",
    "\n",
    "string='Ram is a nice guy.'\n",
    "\n",
    "print(string.replace('guy','man'))"
   ]
  },
  {
   "cell_type": "code",
   "execution_count": 32,
   "id": "d6a3218c",
   "metadata": {},
   "outputs": [
    {
     "name": "stdout",
     "output_type": "stream",
     "text": [
      "3\n"
     ]
    }
   ],
   "source": [
    "#11. Count the occurrences of a word in a string.\n",
    "\n",
    "string='Ram is a nice guy. He is a nice husband. He also has a nice family.'\n",
    "word='nice'\n",
    "\n",
    "print(string.count(word))\n",
    "\n"
   ]
  },
  {
   "cell_type": "code",
   "execution_count": 40,
   "id": "d67e1e88",
   "metadata": {},
   "outputs": [
    {
     "name": "stdout",
     "output_type": "stream",
     "text": [
      "nice occurs in input_string at index=9\n"
     ]
    }
   ],
   "source": [
    "#12. Find the first occurrence of a word in a string.\n",
    "\n",
    "input_string='Ram is a nice guy. He is a nice husband. He also has a nice family.'\n",
    "word='nice'\n",
    "\n",
    "index=input_string.find(word)\n",
    "\n",
    "if index!=-1:\n",
    "    print(f\"{word} occurs in input_string at index={index}\")\n",
    "else:\n",
    "    print(f\"{word} does not occur in {input_string}\")"
   ]
  },
  {
   "cell_type": "code",
   "execution_count": 41,
   "id": "e2205804",
   "metadata": {},
   "outputs": [
    {
     "name": "stdout",
     "output_type": "stream",
     "text": [
      "The word 'sample' first occurs at index 10.\n",
      "The word 'sample' does not occur in the string.\n"
     ]
    }
   ],
   "source": [
    "input_string = \"This is a sample sentence. Sample sentences are common.\"\n",
    "\n",
    "specific_word = \"sample\"\n",
    "\n",
    "index = input_string.index(specific_word)\n",
    "    \n",
    "print(f\"The word '{specific_word}' first occurs at index {index}.\")\n",
    "\n",
    "print(f\"The word '{specific_word}' does not occur in the string.\")"
   ]
  },
  {
   "cell_type": "code",
   "execution_count": 42,
   "id": "462b4987",
   "metadata": {},
   "outputs": [
    {
     "ename": "SyntaxError",
     "evalue": "invalid syntax (2255551688.py, line 1)",
     "output_type": "error",
     "traceback": [
      "\u001b[1;36m  Cell \u001b[1;32mIn[42], line 1\u001b[1;36m\u001b[0m\n\u001b[1;33m    13. Find the last occurrence of a word in a string.\u001b[0m\n\u001b[1;37m        ^\u001b[0m\n\u001b[1;31mSyntaxError\u001b[0m\u001b[1;31m:\u001b[0m invalid syntax\n"
     ]
    }
   ],
   "source": [
    "\n"
   ]
  },
  {
   "cell_type": "markdown",
   "id": "e1e41199",
   "metadata": {},
   "source": [
    "# Very Very Important"
   ]
  },
  {
   "cell_type": "code",
   "execution_count": null,
   "id": "1e7344ac",
   "metadata": {},
   "outputs": [],
   "source": [
    "# 13. Find the last occurrence of a word in a string."
   ]
  },
  {
   "cell_type": "code",
   "execution_count": 50,
   "id": "f7c4b9d5",
   "metadata": {},
   "outputs": [
    {
     "name": "stdout",
     "output_type": "stream",
     "text": [
      "The last occurrence of 'sample' is at index 61.\n"
     ]
    }
   ],
   "source": [
    "input_string = \"This is a sample sentence. Sample sentences are common. This sample is different from the others.\"\n",
    "\n",
    "specific_word = \"sample\"\n",
    "reversed_string = input_string[::-1]\n",
    "index = reversed_string.find(specific_word[::-1])\n",
    "\n",
    "if index != -1:\n",
    "    last_index = len(input_string) - index - len(specific_word)\n",
    "    print(f\"The last occurrence of '{specific_word}' is at index {last_index}.\")\n",
    "else:\n",
    "    print(f\"The word '{specific_word}' does not occur in the string.\")"
   ]
  },
  {
   "cell_type": "code",
   "execution_count": 51,
   "id": "f2b5841f",
   "metadata": {},
   "outputs": [
    {
     "name": "stdout",
     "output_type": "stream",
     "text": [
      "ecnetneselpmassihT 18\n",
      "elpmas 6\n",
      "8\n",
      "The last occurrence of 'sample' is at index 4.\n"
     ]
    },
    {
     "data": {
      "text/plain": [
       "'If the word was found, you calculate the index of its last occurrence in the original string:\\n\\n\\n\\nlast_index = len(input_string) - index - len(specific_word)\\n\\nlen(input_string) gives you the length of the original string. \\nSubtracting index from it gives you the position of the last character\\nof the reversed word in the original string. Subtracting the length of the \\nspecific_word then gives you the starting position of the \\nlast occurrence of the word in the original string.'"
      ]
     },
     "execution_count": 51,
     "metadata": {},
     "output_type": "execute_result"
    }
   ],
   "source": [
    "input_string = \"Thissamplesentence\"\n",
    "\n",
    "specific_word = \"sample\"\n",
    "reversed_string = input_string[::-1]\n",
    "print(reversed_string,len(reversed_string))\n",
    "print(specific_word[::-1],len(specific_word[::-1]))\n",
    "index = reversed_string.find(specific_word[::-1])\n",
    "print(index)\n",
    "if index != -1:\n",
    "    last_index = len(input_string) - index - len(specific_word)\n",
    "    print(f\"The last occurrence of '{specific_word}' is at index {last_index}.\")\n",
    "else:\n",
    "    print(f\"The word '{specific_word}' does not occur in the string.\")\n",
    "    \n",
    "    \n",
    "'''If the word was found, you calculate the index of its last occurrence in the original string:\n",
    "\n",
    "\n",
    "\n",
    "last_index = len(input_string) - index - len(specific_word)\n",
    "\n",
    "len(input_string) gives you the length of the original string. \n",
    "Subtracting index from it gives you the position of the last character\n",
    "of the reversed word in the original string. Subtracting the length of the \n",
    "specific_word then gives you the starting position of the \n",
    "last occurrence of the word in the original string.'''"
   ]
  },
  {
   "cell_type": "code",
   "execution_count": 1,
   "id": "df34e05c",
   "metadata": {},
   "outputs": [
    {
     "name": "stdout",
     "output_type": "stream",
     "text": [
      "22\n"
     ]
    }
   ],
   "source": [
    "string=\"this is good. He is a good boy\"\n",
    "word='good'\n",
    "\n",
    "reversed_string=string[::-1]\n",
    "reversed_word=word[::-1]\n",
    "\n",
    "index=reversed_string.index(reversed_word)\n",
    "last_index=len(reversed_string)-index-len(reversed_word)\n",
    "\n",
    "print(last_index)\n"
   ]
  },
  {
   "cell_type": "code",
   "execution_count": null,
   "id": "5af3c0f2",
   "metadata": {},
   "outputs": [],
   "source": [
    "\n"
   ]
  },
  {
   "cell_type": "code",
   "execution_count": 2,
   "id": "592d6037",
   "metadata": {},
   "outputs": [
    {
     "name": "stdout",
     "output_type": "stream",
     "text": [
      "['this', 'is', 'good.', 'He', 'is', 'a', 'good', 'boy']\n"
     ]
    }
   ],
   "source": [
    "#14. Split a string into a list of words.\n",
    "\n",
    "string=\"this is good. He is a good boy\"\n",
    "\n",
    "lst=string.split()\n",
    "print(lst)"
   ]
  },
  {
   "cell_type": "code",
   "execution_count": 4,
   "id": "02a292a6",
   "metadata": {},
   "outputs": [
    {
     "name": "stdout",
     "output_type": "stream",
     "text": [
      "this is good. He is a good boy\n"
     ]
    }
   ],
   "source": [
    "#15. Join a list of words into a string.\n",
    "\n",
    "lst=['this', 'is', 'good.', 'He', 'is', 'a', 'good', 'boy']\n",
    "\n",
    "\n",
    "string=' '.join(lst)\n",
    "\n",
    "print(string)\n"
   ]
  },
  {
   "cell_type": "code",
   "execution_count": null,
   "id": "e0ef31c0",
   "metadata": {},
   "outputs": [],
   "source": [
    "\n",
    "\n",
    "\n",
    "Full Stack Data Science Pro\n",
    "31. Extract the username from an email address string.\n",
    "32. Extract the domain name from an email address string.\n",
    "33. Replace multiple spaces in a string with a single space.\n",
    "34. Check if a string is a valid URL.\n",
    "35. Extract the protocol (http or https) from a URL string.\n",
    "36. Find the frequency of each character in a string.\n",
    "37. Remove all punctuation from a string.\n",
    "38. Check if a string contains only digits.\n",
    "39. Check if a string contains only alphabets.\n",
    "40. Convert a string to a list of characters.\n",
    "41. Check if two strings are anagrams.\n",
    "42. Encode a string using a Caesar cipher.\n",
    "43. Decode a Caesar cipher encoded string.\n",
    "44. Find the most frequent word in a string.\n",
    "45. Find all unique words in a string.\n",
    "46. Count the number of syllables in a string.\n",
    "\n",
    "Full Stack Data Science Pro\n",
    "47. Check if a string contains any special characters.\n",
    "48. Remove the nth word from a string.\n",
    "49. Insert a word at the nth position in a string.\n",
    "50. Convert a CSV string to a list of lists."
   ]
  },
  {
   "cell_type": "code",
   "execution_count": 7,
   "id": "acd81319",
   "metadata": {},
   "outputs": [
    {
     "name": "stdout",
     "output_type": "stream",
     "text": [
      "this_is_good.\n"
     ]
    }
   ],
   "source": [
    "#16. Convert a string where words are separated by spaces to one where words\n",
    "#are separated by underscores.\n",
    "\n",
    "\n",
    "string=\"this is good.\"\n",
    "\n",
    "string=string.replace(\" \",\"_\")\n",
    "\n",
    "\n",
    "\n",
    "print(string)"
   ]
  },
  {
   "cell_type": "markdown",
   "id": "a2e4524b",
   "metadata": {},
   "source": [
    "# Important"
   ]
  },
  {
   "cell_type": "code",
   "execution_count": 9,
   "id": "d9e7e6f1",
   "metadata": {},
   "outputs": [
    {
     "name": "stdout",
     "output_type": "stream",
     "text": [
      "yes\n"
     ]
    }
   ],
   "source": [
    "#17. Check if a string starts with a specific word or phrase.\n",
    "\n",
    "\n",
    "\n",
    "string = \"Hello, world!\"\n",
    "phrase = \"Hello\"\n",
    "\n",
    "if string[:len(phrase)] == phrase:\n",
    "    \n",
    "    print(\"The string starts with 'Hello'\")\n",
    "else:\n",
    "    print(\"The string does not start with 'Hello'\")\n",
    "    \n",
    "    \n",
    "    "
   ]
  },
  {
   "cell_type": "code",
   "execution_count": 16,
   "id": "c4afe642",
   "metadata": {},
   "outputs": [
    {
     "name": "stdout",
     "output_type": "stream",
     "text": [
      "[1, 2, 3, 4]\n",
      "abcd\n"
     ]
    }
   ],
   "source": [
    "l=[1,2,3,4,5,6,7,8]\n",
    "print(l[:4])\n",
    "s='abcdefgh'\n",
    "print(s[:4])"
   ]
  },
  {
   "cell_type": "markdown",
   "id": "99db29fc",
   "metadata": {},
   "source": [
    "# Important"
   ]
  },
  {
   "cell_type": "code",
   "execution_count": null,
   "id": "19397a74",
   "metadata": {},
   "outputs": [],
   "source": [
    "#18. Check if a string ends with a specific word or phrase.\n",
    "\n"
   ]
  },
  {
   "cell_type": "code",
   "execution_count": 21,
   "id": "a8bfadcf",
   "metadata": {},
   "outputs": [
    {
     "name": "stdout",
     "output_type": "stream",
     "text": [
      "The string ends with 'Hello'\n"
     ]
    }
   ],
   "source": [
    "string = \"Hello, world\"\n",
    "phrase = \"world\"\n",
    "\n",
    "if string[-len(phrase):] == phrase:\n",
    "    \n",
    "    print(\"The string ends with 'Hello'\")\n",
    "else:\n",
    "    print(\"The string does not end with 'Hello'\")\n",
    "    \n",
    "    "
   ]
  },
  {
   "cell_type": "code",
   "execution_count": 26,
   "id": "37760149",
   "metadata": {},
   "outputs": [
    {
     "name": "stdout",
     "output_type": "stream",
     "text": [
      "[8, 7, 6, 5]\n",
      "[6, 5]\n",
      "[6, 7, 8]\n",
      "[6, 7, 8]\n"
     ]
    }
   ],
   "source": [
    "l=[1,2,3,4,5,6,7,8]\n",
    "\n",
    "print(l[-1:-5:-1])\n",
    "print(l[-3:-5:-1])\n",
    "\n",
    "print(l[-3:])\n",
    "print(l[-3::1])"
   ]
  },
  {
   "cell_type": "code",
   "execution_count": 28,
   "id": "90ddb756",
   "metadata": {},
   "outputs": [
    {
     "name": "stdout",
     "output_type": "stream",
     "text": [
      "Hello World\n"
     ]
    }
   ],
   "source": [
    "#19. Convert a string to title case (e.g., \"hello world\" to \"Hello World\").\n",
    "s=\"hello world\"\n",
    "s1=s.title()\n",
    "print(s1)"
   ]
  },
  {
   "cell_type": "markdown",
   "id": "39611ff5",
   "metadata": {},
   "source": [
    "# very important"
   ]
  },
  {
   "cell_type": "code",
   "execution_count": 30,
   "id": "7ba50d37",
   "metadata": {},
   "outputs": [
    {
     "name": "stdout",
     "output_type": "stream",
     "text": [
      "The longest word is: hippopotamus.\n",
      "Its length is: 13\n"
     ]
    }
   ],
   "source": [
    "#20. Find the longest word in a string.\n",
    "\n",
    "S='Find the longest word in a string.'\n",
    "\n",
    "input_string = \"This is a sample sentence with some long words like elephant and hippopotamus.\"\n",
    "\n",
    "# Split the string into words using whitespace as the delimiter\n",
    "words = input_string.split()\n",
    "\n",
    "# Initialize variables to keep track of the longest word and its length\n",
    "longest_word = \"\"\n",
    "max_length = 0\n",
    "\n",
    "# Iterate through the words and find the longest one\n",
    "for word in words:\n",
    "    # Remove punctuation if necessary, e.g., using word.strip('.,!?')\n",
    "    if len(word) > max_length:\n",
    "        max_length = len(word)\n",
    "        longest_word = word\n",
    "\n",
    "print(\"The longest word is:\", longest_word)\n",
    "print(\"Its length is:\", max_length)\n",
    "\n",
    "\n",
    "\n"
   ]
  },
  {
   "cell_type": "code",
   "execution_count": 29,
   "id": "ddaa6985",
   "metadata": {},
   "outputs": [
    {
     "name": "stdout",
     "output_type": "stream",
     "text": [
      "The longest word is: hippopotamus.\n",
      "Its length is: 13\n"
     ]
    }
   ],
   "source": [
    "input_string = \"This is a sample sentence with some long words like elephant and hippopotamus.\"\n",
    "\n",
    "# Split the string into words using whitespace as the delimiter\n",
    "words = input_string.split()\n",
    "\n",
    "# Use the max function with a custom key function to find the longest word\n",
    "longest_word = max(words, key=len)   #. The key=len specifies that the length of each word should \n",
    "#be used as the criterion for finding the maximum.\n",
    "\n",
    "print(\"The longest word is:\", longest_word)\n",
    "print(\"Its length is:\", len(longest_word))"
   ]
  },
  {
   "cell_type": "code",
   "execution_count": 31,
   "id": "ee10917b",
   "metadata": {},
   "outputs": [
    {
     "name": "stdout",
     "output_type": "stream",
     "text": [
      "The longest word is: hippopotamus.\n",
      "Its length is: 13\n"
     ]
    }
   ],
   "source": [
    "input_string = \"This is a sample sentence with some long words like elephant and hippopotamus.\"\n",
    "\n",
    "# Split the string into words using whitespace as the delimiter\n",
    "words = input_string.split()\n",
    "\n",
    "# Use the max function with a lambda function as the key to find the longest word\n",
    "longest_word = max(words, key=lambda word: len(word))\n",
    "\n",
    "print(\"The longest word is:\", longest_word)\n",
    "print(\"Its length is:\", len(longest_word))"
   ]
  },
  {
   "cell_type": "code",
   "execution_count": null,
   "id": "0872f9b3",
   "metadata": {},
   "outputs": [],
   "source": [
    "\n",
    "\n",
    "\n",
    "\n",
    "\n",
    "\n",
    "\n",
    "\n"
   ]
  },
  {
   "cell_type": "code",
   "execution_count": 32,
   "id": "777e5341",
   "metadata": {},
   "outputs": [
    {
     "name": "stdout",
     "output_type": "stream",
     "text": [
      "The longest word is: a\n",
      "Its length is: 1\n"
     ]
    }
   ],
   "source": [
    "#21. Find the shortest word in a string.\n",
    "\n",
    "\n",
    "input_string = \"This is a sample sentence with some long words like elephant and hippopotamus.\"\n",
    "\n",
    "# Split the string into words using whitespace as the delimiter\n",
    "words = input_string.split()\n",
    "\n",
    "# Use the max function with a lambda function as the key to find the longest word\n",
    "shortest_word = min(words, key=lambda word: len(word))\n",
    "\n",
    "print(\"The longest word is:\", shortest_word)\n",
    "print(\"Its length is:\", len(shortest_word))"
   ]
  },
  {
   "cell_type": "code",
   "execution_count": 55,
   "id": "852493fd",
   "metadata": {},
   "outputs": [
    {
     "name": "stdout",
     "output_type": "stream",
     "text": [
      "['This', 'is', 'a', 'sample', 'sentence', 'with', 'some', 'long', 'words', 'like', 'elephant', 'and', 'hippopotamus.']\n",
      "hippopotamus. and elephant like words long some with sentence sample a is This\n"
     ]
    }
   ],
   "source": [
    "#22. Reverse the order of words in a string.\n",
    "\n",
    "input_string = \"This is a sample sentence with some long words like elephant and hippopotamus.\"\n",
    "\n",
    "words=input_string.split()\n",
    "print(lst)\n",
    "reversed_words=[]\n",
    "\n",
    "for i in range(len(words)-1,-1,-1):\n",
    "    \n",
    "    reversed_words.append(words[i])\n",
    "    \n",
    "print(' '.join(reversed_words))\n",
    "    \n",
    "\n",
    "    "
   ]
  },
  {
   "cell_type": "code",
   "execution_count": 54,
   "id": "fedbf982",
   "metadata": {},
   "outputs": [
    {
     "name": "stdout",
     "output_type": "stream",
     "text": [
      "[4, 3, 2, 1]\n"
     ]
    }
   ],
   "source": [
    "l=[1,2,3,4]\n",
    "\n",
    "print(l[len(l)-1::-1])"
   ]
  },
  {
   "cell_type": "code",
   "execution_count": 56,
   "id": "918e159f",
   "metadata": {},
   "outputs": [
    {
     "name": "stdout",
     "output_type": "stream",
     "text": [
      "Original string: This is a sample sentence.\n",
      "Reversed string: sentence. sample a is This\n"
     ]
    }
   ],
   "source": [
    "#BEST WAY\n",
    "\n",
    "\n",
    "input_string = \"This is a sample sentence.\"\n",
    "\n",
    "# Split the string into words using whitespace as the delimiter\n",
    "words = input_string.split()\n",
    "\n",
    "# Reverse the order of words\n",
    "reversed_words = words[::-1]\n",
    "\n",
    "# Join the reversed words back together into a string\n",
    "reversed_string = \" \".join(reversed_words)\n",
    "\n",
    "print(\"Original string:\", input_string)\n",
    "print(\"Reversed string:\", reversed_string)"
   ]
  },
  {
   "cell_type": "code",
   "execution_count": null,
   "id": "b98552dc",
   "metadata": {},
   "outputs": [],
   "source": [
    "#23. Check if a string is alphanumeric.\n",
    "\n",
    "import string\n",
    "\n",
    "input_string = \"Hello123\"\n",
    "\n",
    "# Check if all characters in the string are alphanumeric\n",
    "if all(char in string.ascii_letters + string.digits for char in input_string):\n",
    "    print(\"The string is alphanumeric.\")\n",
    "else:\n",
    "    print(\"The string is not alphanumeric.\")"
   ]
  },
  {
   "cell_type": "code",
   "execution_count": 60,
   "id": "fc3a3389",
   "metadata": {},
   "outputs": [
    {
     "name": "stdout",
     "output_type": "stream",
     "text": [
      "yes\n"
     ]
    }
   ],
   "source": [
    "import string\n",
    "\n",
    "my_string='ott3687'\n",
    "\n",
    "if all(char in string.ascii_letters + string.digits for char in my_string):\n",
    "    print('yes')"
   ]
  },
  {
   "cell_type": "code",
   "execution_count": 61,
   "id": "b3af7743",
   "metadata": {},
   "outputs": [
    {
     "name": "stdout",
     "output_type": "stream",
     "text": [
      "yes\n"
     ]
    }
   ],
   "source": [
    "import string\n",
    "\n",
    "my_string='ott3687'\n",
    "\n",
    "if all(char in string.ascii_lowercase + string.digits for char in my_string):\n",
    "    print('yes')"
   ]
  },
  {
   "cell_type": "code",
   "execution_count": 62,
   "id": "a8d5eda6",
   "metadata": {},
   "outputs": [
    {
     "name": "stdout",
     "output_type": "stream",
     "text": [
      "['3', '6', '8', '7']\n"
     ]
    }
   ],
   "source": [
    "#24. Extract all digits from a string.\n",
    "\n",
    "import string\n",
    "\n",
    "my_string='ott3687'\n",
    "lst_digits=[]\n",
    "\n",
    "for char in my_string:\n",
    "    if char in string.digits:  #DIGITS\n",
    "        lst_digits.append(char)\n",
    "    \n",
    "print(lst_digits)\n",
    "        "
   ]
  },
  {
   "cell_type": "code",
   "execution_count": 63,
   "id": "5c1f8d62",
   "metadata": {},
   "outputs": [
    {
     "name": "stdout",
     "output_type": "stream",
     "text": [
      "['o', 't', 't']\n"
     ]
    }
   ],
   "source": [
    "#25. Extract all alphabets from a string.\n",
    "\n",
    "import string\n",
    "\n",
    "my_string='ott3687'\n",
    "lst_digits=[]\n",
    "\n",
    "for char in my_string:\n",
    "    if char in string.ascii_letters:   #LETTERS\n",
    "        lst_digits.append(char)\n",
    "    \n",
    "print(lst_digits)\n",
    "        "
   ]
  },
  {
   "cell_type": "code",
   "execution_count": null,
   "id": "30acfba9",
   "metadata": {},
   "outputs": [],
   "source": [
    "'''The string module in Python is a built-in module that provides a collection of string constants.''' "
   ]
  },
  {
   "cell_type": "code",
   "execution_count": 65,
   "id": "471a67fd",
   "metadata": {},
   "outputs": [
    {
     "name": "stdout",
     "output_type": "stream",
     "text": [
      "['o', 't', 't']\n"
     ]
    }
   ],
   "source": [
    "#26. Count the number of uppercase letters in a string.\n",
    "#27. Count the number of lowercase letters in a string.\n",
    "\n",
    "import string\n",
    "\n",
    "my_string='ott3687'\n",
    "lst_digits=[]\n",
    "\n",
    "for char in my_string:\n",
    "    if char in string.ascii_lowercase:         #LOWERCASE,UPPERCASE\n",
    "        lst_digits.append(char)\n",
    "    \n",
    "print(lst_digits)\n"
   ]
  },
  {
   "cell_type": "code",
   "execution_count": null,
   "id": "1df3f6f9",
   "metadata": {},
   "outputs": [],
   "source": [
    "\n",
    "\n"
   ]
  },
  {
   "cell_type": "code",
   "execution_count": 66,
   "id": "2b692c04",
   "metadata": {},
   "outputs": [
    {
     "name": "stdout",
     "output_type": "stream",
     "text": [
      "Original string: Hello World\n",
      "Swapped string: hELLO wORLD\n"
     ]
    }
   ],
   "source": [
    "#28. Swap the case of each character in a string.\n",
    "\n",
    "input_string = \"Hello World\"\n",
    "\n",
    "# Swap the case of each character in the string\n",
    "swapped_string = input_string.swapcase()              #SWAPCASE\n",
    "\n",
    "print(\"Original string:\", input_string)\n",
    "print(\"Swapped string:\", swapped_string)"
   ]
  },
  {
   "cell_type": "code",
   "execution_count": 67,
   "id": "217fd390",
   "metadata": {},
   "outputs": [
    {
     "name": "stdout",
     "output_type": "stream",
     "text": [
      "Original string: This is a sample sentence. Remove this word.\n",
      "Modified string: This is a sample sentence.  this word.\n"
     ]
    }
   ],
   "source": [
    "#29. Remove a specific word from a string.\n",
    "\n",
    "\n",
    "input_string = \"This is a sample sentence. Remove this word.\"\n",
    "\n",
    "# Word to remove\n",
    "word_to_remove = \"Remove\"\n",
    "\n",
    "# Remove the specific word from the string\n",
    "modified_string = input_string.replace(word_to_remove, \"\")\n",
    "\n",
    "print(\"Original string:\", input_string)\n",
    "print(\"Modified string:\", modified_string)"
   ]
  },
  {
   "cell_type": "code",
   "execution_count": 68,
   "id": "4b8eea2f",
   "metadata": {},
   "outputs": [
    {
     "name": "stdout",
     "output_type": "stream",
     "text": [
      "The email address is valid.\n"
     ]
    }
   ],
   "source": [
    "#30. Check if a string is a valid email address.\n",
    "\n",
    "import re\n",
    "\n",
    "def is_valid_email(email):\n",
    "    # Define a basic regular expression pattern for email validation\n",
    "    pattern = r'^[\\w\\.-]+@[\\w\\.-]+\\.\\w+$'\n",
    "    \n",
    "    # Use re.match() to check if the email matches the pattern\n",
    "    if re.match(pattern, email):\n",
    "        return True\n",
    "    else:\n",
    "        return False\n",
    "\n",
    "# Test the function with an email address\n",
    "email_address = \"example@email.com\"\n",
    "\n",
    "if is_valid_email(email_address):\n",
    "    print(\"The email address is valid.\")\n",
    "else:\n",
    "    print(\"The email address is not valid.\")\n",
    "    \n",
    "\n",
    "'''The regular expression r'^[\\w\\.-]+@[\\w\\.-]+\\.\\w+$' is a common pattern for basic email address validation. Let's break down its components:\n",
    "\n",
    "    ^: Indicates the start of the string.\n",
    "    [\\w\\.-]+: Matches one or more word characters (\\w), dots (.), or hyphens (-) before the @ symbol.\n",
    "    @: Matches the literal @ symbol.\n",
    "    [\\w\\.-]+: Matches one or more word characters, dots, or hyphens after the @ symbol.\n",
    "    \\.: Matches the literal dot (period) after the domain part.\n",
    "    \\w+: Matches one or more word characters in the domain part.\n",
    "    $: Indicates the end of the string.\n",
    "    \n",
    "    '''"
   ]
  },
  {
   "cell_type": "code",
   "execution_count": null,
   "id": "537305f1",
   "metadata": {},
   "outputs": [],
   "source": [
    "\n",
    "\n",
    "\n",
    "\n",
    "35. Extract the protocol (http or https) from a URL string.\n",
    "36. Find the frequency of each character in a string.\n",
    "37. Remove all punctuation from a string.\n",
    "38. Check if a string contains only digits.\n",
    "39. Check if a string contains only alphabets.\n",
    "40. Convert a string to a list of characters.\n",
    "41. Check if two strings are anagrams.\n",
    "42. Encode a string using a Caesar cipher.\n",
    "43. Decode a Caesar cipher encoded string.\n",
    "44. Find the most frequent word in a string.\n",
    "45. Find all unique words in a string.\n",
    "46. Count the number of syllables in a string."
   ]
  },
  {
   "cell_type": "code",
   "execution_count": 1,
   "id": "7a98c383",
   "metadata": {},
   "outputs": [
    {
     "name": "stdout",
     "output_type": "stream",
     "text": [
      "Username: example.user\n"
     ]
    }
   ],
   "source": [
    "#31. Extract the username from an email address string.\n",
    "\n",
    "def extract_username(email):\n",
    "    # Split the email address at the \"@\" symbol\n",
    "    parts = email.split(\"@\")\n",
    "\n",
    "    # Check if there are two parts (username and domain)\n",
    "    if len(parts) == 2:\n",
    "        return parts[0]  # The username is the first part\n",
    "    else:\n",
    "        return None  # Invalid email address\n",
    "\n",
    "# Example usage:\n",
    "email_address = \"example.user@example.com\"\n",
    "username = extract_username(email_address)\n",
    "if username:\n",
    "    print(f\"Username: {username}\")\n",
    "else:\n",
    "    print(\"Invalid email address\")"
   ]
  },
  {
   "cell_type": "code",
   "execution_count": 3,
   "id": "7fde7c0d",
   "metadata": {},
   "outputs": [
    {
     "name": "stdout",
     "output_type": "stream",
     "text": [
      "joy\n"
     ]
    }
   ],
   "source": [
    "email='joy@gmail.com'\n",
    "\n",
    "def extract_username(email):\n",
    "    parts=email.split('@')\n",
    "    \n",
    "    if len(parts)==2:\n",
    "        return parts[0]\n",
    "    else:\n",
    "        return None\n",
    "    \n",
    "username=extract_username(email)\n",
    "\n",
    "if username:\n",
    "    print(username)\n",
    "else:\n",
    "    print(\"Invalid username\")\n",
    "    "
   ]
  },
  {
   "cell_type": "code",
   "execution_count": 8,
   "id": "2ae5454f",
   "metadata": {},
   "outputs": [
    {
     "name": "stdout",
     "output_type": "stream",
     "text": [
      "joy\n"
     ]
    }
   ],
   "source": [
    "def extract_username(email):\n",
    "    \n",
    "    parts=email.split('@')\n",
    "    \n",
    "    if len(parts)==2:\n",
    "        return parts[0]\n",
    "    else:\n",
    "        return None\n",
    "    \n",
    "email='joy@gmail.com'\n",
    "\n",
    "username=extract_username(email)\n",
    "if username:\n",
    "    print(username)\n",
    "else:\n",
    "    print(\"Invalid username\")\n"
   ]
  },
  {
   "cell_type": "code",
   "execution_count": 6,
   "id": "563da328",
   "metadata": {},
   "outputs": [
    {
     "name": "stdout",
     "output_type": "stream",
     "text": [
      "['joy', 'gmail.com']\n"
     ]
    }
   ],
   "source": [
    "email='joy@gmail.com'\n",
    "parts=email.split('@')\n",
    "print(parts)\n",
    "\n"
   ]
  },
  {
   "cell_type": "code",
   "execution_count": 12,
   "id": "ae1f38c8",
   "metadata": {},
   "outputs": [
    {
     "name": "stdout",
     "output_type": "stream",
     "text": [
      "goodfine\n"
     ]
    }
   ],
   "source": [
    "def extract_username(email):\n",
    "    parts=email.split('@')\n",
    "    \n",
    "    if len(parts)==2:\n",
    "        return parts[0]\n",
    "    else:\n",
    "        return None\n",
    "    \n",
    "email='goodfine@gmail.com'\n",
    "\n",
    "username=extract_username(email)\n",
    "\n",
    "if username:\n",
    "    print(username)\n",
    "else:\n",
    "    print(\"Invalid username\")"
   ]
  },
  {
   "cell_type": "code",
   "execution_count": 13,
   "id": "7088db12",
   "metadata": {},
   "outputs": [
    {
     "name": "stdout",
     "output_type": "stream",
     "text": [
      "gmail.com\n"
     ]
    }
   ],
   "source": [
    "#32. Extract the domain name from an email address string.\n",
    "\n",
    "def extract_domain(email):\n",
    "    parts=email.split('@')\n",
    "    \n",
    "    if len(parts)==2:\n",
    "        return parts[1]\n",
    "    else:\n",
    "        return None\n",
    "   \n",
    "\n",
    "email='ghj@gmail.com'\n",
    "\n",
    "domain=extract_domain(email)\n",
    "\n",
    "if domain:\n",
    "    print(domain)\n",
    "else:\n",
    "    print(\"Invalid\")"
   ]
  },
  {
   "cell_type": "code",
   "execution_count": null,
   "id": "d7cbe268",
   "metadata": {},
   "outputs": [],
   "source": [
    "#33. Replace multiple spaces in a string with a single space.\n",
    "\n"
   ]
  },
  {
   "cell_type": "code",
   "execution_count": null,
   "id": "0e396127",
   "metadata": {},
   "outputs": [],
   "source": [
    "import re\n",
    "\n",
    "def replace_multiple_spaces_with_single_space(input_string):\n",
    "    # Use a regular expression to replace multiple spaces with a single space\n",
    "    return re.sub(r'\\s+', ' ', input_string)\n",
    "\n",
    "# Example usage:\n",
    "original_string = \"This   is   a   string   with   multiple   spaces.\"\n",
    "result_string = replace_multiple_spaces_with_single_space(original_string)\n",
    "print(result_string)\n"
   ]
  },
  {
   "cell_type": "markdown",
   "id": "07d1f81d",
   "metadata": {},
   "source": [
    "# Important"
   ]
  },
  {
   "cell_type": "code",
   "execution_count": null,
   "id": "bc001f8b",
   "metadata": {},
   "outputs": [],
   "source": [
    "'''The re module in Python allows working with regular expressions,\n",
    "  for searching, matching, and manipulating text patterns.'''"
   ]
  },
  {
   "cell_type": "code",
   "execution_count": null,
   "id": "e517c714",
   "metadata": {},
   "outputs": [],
   "source": [
    "\\s: Represents whitespace characters. \n",
    "\n",
    "\\w: Represents word characters. \n",
    "It matches letters (both uppercase and lowercase), digits, and underscores.\n",
    "It's often used to match alphanumeric characters within words.\n",
    "\n",
    "\\d: Represents digit characters. \n",
    "\n",
    "[a-z]:    To match lowercase letters (a to z).\n",
    "[A-Z]:   To match uppercase letters (A to Z).\n",
    "[a-zA-Z]:    To match both lowercase and uppercase letters.\n",
    "    \n",
    "In regular expressions, \\s+ is a pattern that matches one or more whitespace characters"
   ]
  },
  {
   "cell_type": "code",
   "execution_count": 17,
   "id": "cbb18eef",
   "metadata": {},
   "outputs": [
    {
     "name": "stdout",
     "output_type": "stream",
     "text": [
      " abc ghk klp zzzw\n"
     ]
    }
   ],
   "source": [
    "import re\n",
    "\n",
    "def replace_multiple_spaces_with_single_space(input_string):\n",
    "    return re.sub(r'\\s+',' ',input_string)\n",
    "\n",
    "input_string=' abc  ghk klp    zzzw'\n",
    "\n",
    "final_string=replace_multiple_spaces_with_single_space(input_string)\n",
    "\n",
    "print(final_string)"
   ]
  },
  {
   "cell_type": "code",
   "execution_count": null,
   "id": "e1ef12a1",
   "metadata": {},
   "outputs": [],
   "source": [
    "#34. Check if a string is a valid URL.\n",
    "\n",
    "from urllib.parse import urlparse\n",
    "\n",
    "def is_valid_url(url):\n",
    "    try:\n",
    "        result = urlparse(url)\n",
    "        #print(result.scheme, '+',result.netloc)\n",
    "        # Check if the scheme and netloc (domain) are both non-empty\n",
    "        return all([result.scheme, result.netloc])  #all returns True if all entries are non-empty\n",
    "    except ValueError:\n",
    "        return False\n",
    "\n",
    "# Example usage:\n",
    "url = \"https://www.example.com\"\n",
    "#x=is_valid_url(url)\n",
    "#print(x)\n",
    "if is_valid_url(url):\n",
    "    print(f\"{url} is a valid URL\")\n",
    "else:\n",
    "    print(f\"{url} is not a valid URL\")"
   ]
  },
  {
   "cell_type": "code",
   "execution_count": 22,
   "id": "2047c49e",
   "metadata": {},
   "outputs": [
    {
     "name": "stdout",
     "output_type": "stream",
     "text": [
      "https://www.example.com is valid\n"
     ]
    }
   ],
   "source": [
    "from urllib.parse import urlparse\n",
    "\n",
    "def check_url(url):\n",
    "    try:\n",
    "        result=urlparse(url)\n",
    "        return all([result.scheme,result.netloc])\n",
    "    except:\n",
    "        return False\n",
    "    \n",
    "url = \"https://www.example.com\"   \n",
    "\n",
    "if  check_url(url):\n",
    "    print(f\"{url} is valid\")\n",
    "        \n",
    "        "
   ]
  },
  {
   "cell_type": "code",
   "execution_count": null,
   "id": "cb978bc7",
   "metadata": {},
   "outputs": [],
   "source": [
    "from urllib.parse import urlparse\n",
    "\n",
    "def is_valid_url(url):\n",
    "    try:\n",
    "        result=urlparse(url)\n",
    "    \n",
    "        return all([result.scheme,result.netloc])\n",
    "    except:\n",
    "        return False\n",
    "    \n",
    "    \n",
    "from urllib.parse import urlparse\n",
    "\n",
    "def check_url(url):\n",
    "    \n",
    "    try:\n",
    "        result=urlparse(url)\n",
    "        \n",
    "        return all([result.scheme,result.netloc]) #non empty\n",
    "    except:\n",
    "        return False\n",
    "    \n",
    "\n",
    "        "
   ]
  },
  {
   "cell_type": "code",
   "execution_count": 1,
   "id": "3d4e8163",
   "metadata": {},
   "outputs": [
    {
     "name": "stdout",
     "output_type": "stream",
     "text": [
      "https\n"
     ]
    }
   ],
   "source": [
    "#35 Extract the protocol (http or https) from a URL string.\n",
    "\n",
    "from urllib.parse import urlparse\n",
    "\n",
    "def extract_protocol(url):\n",
    "    \n",
    "    result=urlparse(url)\n",
    "    return result.scheme\n",
    "\n",
    "url= \"https://www.example.com\"   \n",
    "\n",
    "print(extract_protocol(url))"
   ]
  },
  {
   "cell_type": "code",
   "execution_count": 2,
   "id": "90c34391",
   "metadata": {},
   "outputs": [
    {
     "name": "stdout",
     "output_type": "stream",
     "text": [
      "a 2\n",
      "k 1\n",
      "l 2\n",
      "j 1\n",
      "y 2\n",
      "h 1\n",
      "i 2\n",
      "c 1\n",
      "n 1\n",
      "f 1\n",
      "p 2\n",
      "w 2\n",
      "o 2\n"
     ]
    }
   ],
   "source": [
    "#36.   Find the frequency of each character in a string.\n",
    "\n",
    "def character_frequency(input_string):\n",
    "    frequency_dct={}\n",
    "    \n",
    "    for char in input_string:\n",
    "        if char in frequency_dct:\n",
    "            frequency_dct[char]+=1\n",
    "        else:\n",
    "            frequency_dct[char]=1\n",
    "            \n",
    "    return frequency_dct\n",
    "\n",
    "input_string=\"akljyhlicynfpwoaiopw\"\n",
    "\n",
    "result=character_frequency(input_string)\n",
    "\n",
    "\n",
    "for char,freq in result.items():\n",
    "    print(char,freq)"
   ]
  },
  {
   "cell_type": "code",
   "execution_count": 3,
   "id": "8cf027a7",
   "metadata": {},
   "outputs": [
    {
     "name": "stdout",
     "output_type": "stream",
     "text": [
      "Hello World This is an example string with punctuation\n"
     ]
    }
   ],
   "source": [
    "# 37. Remove all punctuation from a string.\n",
    "\n",
    "import re\n",
    "\n",
    "def remove_punctuation(input_string):\n",
    "    return re.sub(r'[^\\w\\s]','',input_string)\n",
    "\n",
    "input_string= \"Hello, World! This is an example string with punctuation.\"\n",
    "\n",
    "output_string=remove_punctuation(input_string)\n",
    "\n",
    "print(output_string)\n"
   ]
  },
  {
   "cell_type": "code",
   "execution_count": 4,
   "id": "f66f2903",
   "metadata": {},
   "outputs": [
    {
     "name": "stdout",
     "output_type": "stream",
     "text": [
      "the input string contains only digits\n"
     ]
    }
   ],
   "source": [
    "#38. Check if a string contains only digits.\n",
    "\n",
    "\n",
    "def contains_only_digits(input_string):\n",
    "    for char in input_string:\n",
    "        if not char.isdigit():\n",
    "            return False\n",
    "    else:\n",
    "        return True\n",
    "    \n",
    "input_string='12345'\n",
    "\n",
    "if contains_only_digits(input_string):\n",
    "    print(\"the input string contains only digits\")\n",
    "else:\n",
    "     print(\"the input string does not contain only digits\")"
   ]
  },
  {
   "cell_type": "code",
   "execution_count": 5,
   "id": "ceca7f16",
   "metadata": {},
   "outputs": [
    {
     "name": "stdout",
     "output_type": "stream",
     "text": [
      "the input string contains only digits\n"
     ]
    }
   ],
   "source": [
    "import re \n",
    "\n",
    "def contains_only_digits(input_string):\n",
    "    return bool(re.match(r'^\\d+$',input_string))\n",
    "\n",
    "   \n",
    "input_string='12345'\n",
    "\n",
    "if contains_only_digits(input_string):\n",
    "    print(\"the input string contains only digits\")\n",
    "else:\n",
    "     print(\"the input string does not contain only digits\")"
   ]
  },
  {
   "cell_type": "code",
   "execution_count": 13,
   "id": "b1dd0ec2",
   "metadata": {},
   "outputs": [
    {
     "name": "stdout",
     "output_type": "stream",
     "text": [
      "the input string contains only alphabets\n"
     ]
    }
   ],
   "source": [
    "#39. Check if a string contains only alphabets.\n",
    "\n",
    "def contains_only_alphabets(input_string):\n",
    "    for char in input_string:\n",
    "        if not char.isalpha():\n",
    "            return False\n",
    "    return True\n",
    "\n",
    "input_string='ahjgkgk'\n",
    "\n",
    "if contains_only_alphabets(input_string):\n",
    "    print(\"the input string contains only alphabets\")\n",
    "else:\n",
    "    print(\"the input string does not contain only alphabets\")\n",
    "\n"
   ]
  },
  {
   "cell_type": "markdown",
   "id": "a2cc07a4",
   "metadata": {},
   "source": [
    "# Important"
   ]
  },
  {
   "cell_type": "code",
   "execution_count": 16,
   "id": "967e71e7",
   "metadata": {},
   "outputs": [
    {
     "name": "stdout",
     "output_type": "stream",
     "text": [
      "the input string does not contain only alphabets\n"
     ]
    }
   ],
   "source": [
    "import re\n",
    "\n",
    "def contains_alphabets_only(input_string):\n",
    "    return bool(re.match(r'^[a-zA-Z]+$',input_string))\n",
    "\n",
    "input_string='ahjgk7gk'\n",
    "\n",
    "if contains_alphabets_only(input_string):\n",
    "    print(\"the input string contains only alphabets\")\n",
    "else:\n",
    "    print(\"the input string does not contain only alphabets\")\n",
    "\n"
   ]
  },
  {
   "cell_type": "code",
   "execution_count": 17,
   "id": "ca5ff897",
   "metadata": {},
   "outputs": [
    {
     "name": "stdout",
     "output_type": "stream",
     "text": [
      "['a', 'g', 'k', 'j', 'd', 'n', 's', 'l', 'a', 'k']\n"
     ]
    }
   ],
   "source": [
    "#40. Convert a string to a list of characters.\n",
    "\n",
    "string='agkjdnslak'\n",
    "\n",
    "l=list(string)\n",
    "\n",
    "print(l)"
   ]
  },
  {
   "cell_type": "code",
   "execution_count": 18,
   "id": "64d4993c",
   "metadata": {},
   "outputs": [
    {
     "name": "stdout",
     "output_type": "stream",
     "text": [
      "listen and silent anagrams\n"
     ]
    }
   ],
   "source": [
    "#41. Check if two strings are anagrams.\n",
    "\n",
    "def are_anagrams(str1,str2):\n",
    "    str1=str1.replace(\" \",\"\").lower()\n",
    "    str2=str2.replace(\" \",\"\").lower()\n",
    "    \n",
    "    return sorted(str1)==sorted(str2)\n",
    "\n",
    "string1='listen'\n",
    "string2='silent'\n",
    "\n",
    "if are_anagrams(string1,string2):\n",
    "    print(f\"{string1} and {string2} anagrams\")"
   ]
  },
  {
   "cell_type": "code",
   "execution_count": null,
   "id": "4952d131",
   "metadata": {},
   "outputs": [],
   "source": [
    "#42. Encode a string using a Caesar cipher.\n",
    "\n"
   ]
  },
  {
   "cell_type": "code",
   "execution_count": null,
   "id": "a626e2b5",
   "metadata": {},
   "outputs": [],
   "source": [
    "'''\n",
    "A Caesar cipher is an encryption technique that shifts the characters in a\n",
    " string by a fixed number of positions down or up the alphabet.\n",
    "\n",
    " To encode a string using a Caesar cipher in Python,\n",
    " you can create a function that performs the character shifting. '''"
   ]
  },
  {
   "cell_type": "code",
   "execution_count": null,
   "id": "dfeb3e00",
   "metadata": {},
   "outputs": [],
   "source": [
    "def caesar_cipher(text, shift):\n",
    "    result = \"\"\n",
    "\n",
    "    for char in text:\n",
    "        if char.isalpha():  # Check if the character is alphabetic\n",
    "            is_upper = char.isupper()  # Check if the character is uppercase\n",
    "            char = char.lower()  # Convert to lowercase for easier processing\n",
    "            shifted = chr(((ord(char) - ord('a') + shift) % 26) + ord('a'))\n",
    "            if is_upper:\n",
    "              shifted = shifted.upper()  # Convert back to uppercase if it was uppercase\n",
    "            result += shifted\n",
    "\n",
    "        else:\n",
    "            result += char  # Keep non-alphabetic characters unchanged\n",
    "\n",
    "\n",
    "    return result\n",
    "\n",
    "# Example usage:\n",
    "original_text = \"Hello, World!\"\n",
    "shift_value = 3\n",
    "encoded_text = caesar_cipher(original_text, shift_value)\n",
    "print(\"Original Text:\", original_text)\n",
    "print(\"Encoded Text:\", encoded_text)"
   ]
  },
  {
   "cell_type": "code",
   "execution_count": null,
   "id": "efe27844",
   "metadata": {},
   "outputs": [],
   "source": [
    "\n",
    "   We define a function caesar_cipher that takes an input string text and a shift value shift.\n",
    "\n",
    "    We initialize an empty string result to store the encoded text.\n",
    "\n",
    "    We iterate through each character in the input text.\n",
    "\n",
    "    For each alphabetic character, we check if it's uppercase or lowercase, convert it to lowercase for processing,\n",
    "     calculate the new character by shifting it by shift positions in the alphabet, and then convert .\n",
    "     it back to uppercase if it was originally uppercase.\n",
    "\n",
    "    We keep non-alphabetic characters (such as spaces and punctuation) unchanged in the encoded result.\n",
    "\n",
    "    Finally, we return the result, which is the encoded text.\n",
    "\n",
    "\n",
    "     "
   ]
  },
  {
   "cell_type": "code",
   "execution_count": null,
   "id": "8aa82e30",
   "metadata": {},
   "outputs": [],
   "source": [
    "In Python, ord() is a built-in function that returns the Unicode code point (integer representation) \n",
    "of a single character. It stands for \"ordinal\" and is short for \"ordinal value\" or \"Unicode code point.\"\n",
    "\n",
    "\n",
    "For example, if you call ord('a'), it will return the Unicode code point for the lowercase letter 'a',\n",
    "which is 97. Here's how you can use it:\n",
    "\n",
    "\n",
    "\n",
    "char = 'a'\n",
    "unicode_code_point = ord(char)\n",
    "print(f\"The Unicode code point of '{char}' is {unicode_code_point}\")\n",
    "\n",
    "\n",
    "A Unicode code point is a numerical value assigned to each character and symbol \n",
    "in the Unicode standard, which is a universal character encoding standard used to represent\n",
    "text and symbols\n",
    "\n",
    "In Python, the chr() function is used to convert an integer (Unicode code point) \n",
    "into its corresponding Unicode character.\n",
    "\n",
    "  \n",
    "In this context, chr() is used to convert the shifted character code back to its corresponding \n",
    "character in the alphabet.\n",
    "For example, if the shifted character code is 97 (which corresponds to 'a' in Unicode), \n",
    "chr(97) would return the character 'a'.\n",
    "\n",
    "    \n",
    "\n",
    " using % 26, you ensure that the shifted character code remains within the range of 0 to 25,\n",
    "which corresponds to the letters of the English alphabet.\n",
    " Any value exceeding 25 is wrapped back to the beginning of the alphabet.\n",
    "\n",
    " In the Caesar cipher, it's essential to handle the wrap-around effect when shifting characters \n",
    "in the alphabet. After 'z' (or 'Z'), the alphabet should wrap around to 'a' (or 'A').\n",
    "\n",
    "\n",
    "  When you subtract shift from the character code, you might get a negative result or \n",
    "    a value greater than 25.  Applying % 26 ensures that the result is between 0 and 25,\n",
    "which corresponds to the letters of the alphabet."
   ]
  },
  {
   "cell_type": "code",
   "execution_count": 11,
   "id": "006ba87a",
   "metadata": {},
   "outputs": [
    {
     "data": {
      "text/plain": [
       "' Khoor, Zruog!'"
      ]
     },
     "execution_count": 11,
     "metadata": {},
     "output_type": "execute_result"
    }
   ],
   "source": [
    "def caeser_cipher(text,shift):\n",
    "    result=''\n",
    "    for char in text:\n",
    "        if char.isalpha():\n",
    "            is_upper=char.isupper()\n",
    "            char=char.lower()\n",
    "            shifted=chr(((ord(char)-ord('a')+shift)%26)+ord('a'))\n",
    "            if is_upper:\n",
    "                shifted=shifted.upper()\n",
    "            result+=shifted\n",
    "           \n",
    "        else:\n",
    "            result+=char\n",
    "    \n",
    "    return result\n",
    "\n",
    "\n",
    "caeser_cipher(\" Hello, World!\",3)        \n",
    "                "
   ]
  },
  {
   "cell_type": "code",
   "execution_count": 14,
   "id": "b4e2a588",
   "metadata": {},
   "outputs": [
    {
     "data": {
      "text/plain": [
       "'Khoor, Zruog!'"
      ]
     },
     "execution_count": 14,
     "metadata": {},
     "output_type": "execute_result"
    }
   ],
   "source": [
    "def ceaser_cipher(text,shift):\n",
    "    result=''\n",
    "    if char.isalpha():\n",
    "        is_upper=char.isupper()\n",
    "        char=char.lower()\n",
    "        shifted=chr(((ord(char)-ord('a')+shift)%26)+ord('a'))\n",
    "        if is_upper:\n",
    "            shifted=shifted.upper()\n",
    "        result=result+shifted\n",
    "        \n",
    "    else:\n",
    "        result=result+shifted\n",
    "        \n",
    "    return result\n",
    "\n",
    "caeser_cipher(\"Hello, World!\",3)     "
   ]
  },
  {
   "cell_type": "code",
   "execution_count": 17,
   "id": "826bc519",
   "metadata": {},
   "outputs": [],
   "source": [
    "def caeser_cipher(text,shift):\n",
    "    \n",
    "    result=''\n",
    "    for char in text:\n",
    "        if char.isalpha():\n",
    "            is_upper=char.isupper()\n",
    "            char=char.lower()\n",
    "            shifted=chr(((ord(char)-ord('a')+shift)%26)+ord('a'))\n",
    "            if is_upper:\n",
    "                shifted=shifted.upper()\n",
    "            result+=shifted\n",
    "        else:\n",
    "            result+=char\n",
    "    return result\n"
   ]
  },
  {
   "cell_type": "code",
   "execution_count": 18,
   "id": "abee5478",
   "metadata": {},
   "outputs": [
    {
     "data": {
      "text/plain": [
       "'Khoor, Zruog!'"
      ]
     },
     "execution_count": 18,
     "metadata": {},
     "output_type": "execute_result"
    }
   ],
   "source": [
    "caeser_cipher(\"Hello, World!\",3) "
   ]
  },
  {
   "cell_type": "code",
   "execution_count": 19,
   "id": "732e5ffc",
   "metadata": {},
   "outputs": [],
   "source": [
    "def caeser_cipher(text,shift):\n",
    "    result=''\n",
    "    for char in text:\n",
    "        if char.isalpha():\n",
    "            is_upper=char.isupper()\n",
    "            char=char.lower()\n",
    "            shifted=chr((ord(char)-ord('a')+shift)%26+ord('a'))\n",
    "            if is_upper:\n",
    "                shifted=shifted.upper()\n",
    "            result+=shifted\n",
    "        else:\n",
    "            result+=char\n",
    "    return result"
   ]
  },
  {
   "cell_type": "code",
   "execution_count": 20,
   "id": "470cc12a",
   "metadata": {},
   "outputs": [
    {
     "data": {
      "text/plain": [
       "'Khoor,Zruog!'"
      ]
     },
     "execution_count": 20,
     "metadata": {},
     "output_type": "execute_result"
    }
   ],
   "source": [
    "caeser_cipher(\"Hello,World!\",3)"
   ]
  },
  {
   "cell_type": "code",
   "execution_count": 23,
   "id": "9021fa19",
   "metadata": {},
   "outputs": [
    {
     "data": {
      "text/plain": [
       "'khoor , zruog'"
      ]
     },
     "execution_count": 23,
     "metadata": {},
     "output_type": "execute_result"
    }
   ],
   "source": [
    "def caeser_cipher(text,shift):\n",
    "    result=''\n",
    "    for char in text:\n",
    "        if char.isalpha():\n",
    "            is_upper=char.isupper()\n",
    "            char=char.lower()\n",
    "            shifted=chr(((ord(char)-ord('a')+shift)%26)+ord('a'))\n",
    "            if is_upper:\n",
    "                shifted=shifted.upper()\n",
    "            result+=shifted\n",
    "        else:\n",
    "            result+=char\n",
    "    return result\n",
    "\n",
    "caeser_cipher(\"hello , world\",3)"
   ]
  },
  {
   "cell_type": "code",
   "execution_count": 24,
   "id": "6c0ff579",
   "metadata": {},
   "outputs": [
    {
     "data": {
      "text/plain": [
       "'khoor , zruog'"
      ]
     },
     "execution_count": 24,
     "metadata": {},
     "output_type": "execute_result"
    }
   ],
   "source": [
    "def caeser_cipher(text,shift):\n",
    "    result=''\n",
    "    for char in text:\n",
    "        if char.isalpha():\n",
    "            is_upper=char.isupper()\n",
    "            char=char.lower()\n",
    "            shifted=chr((ord(char)-ord('a')+shift)%26+ord('a'))\n",
    "            if is_upper:\n",
    "                shifted=shifted.upper()\n",
    "            result+=shifted\n",
    "        else:\n",
    "            result+=char\n",
    "    return result\n",
    "\n",
    "caeser_cipher(\"hello , world\",3)"
   ]
  },
  {
   "cell_type": "code",
   "execution_count": null,
   "id": "08ebdcb9",
   "metadata": {},
   "outputs": [],
   "source": [
    "#43. Decode a Caesar cipher encoded string."
   ]
  },
  {
   "cell_type": "code",
   "execution_count": 27,
   "id": "84975bec",
   "metadata": {},
   "outputs": [
    {
     "name": "stdout",
     "output_type": "stream",
     "text": [
      "Encoded Text: Khoor, Zruog!\n",
      "Decoded Text: Hello, World!\n"
     ]
    }
   ],
   "source": [
    "\n",
    "def caesar_decipher(encoded_text, shift):\n",
    "    result = \"\"\n",
    "\n",
    "    for char in encoded_text:\n",
    "        if char.isalpha():  # Check if the character is alphabetic\n",
    "            is_upper = char.isupper()  # Check if the character is uppercase\n",
    "            char = char.lower()  # Convert to lowercase for easier processing\n",
    "            shifted = chr(((ord(char) - ord('a') - shift) % 26) + ord('a'))\n",
    "            if is_upper:\n",
    "                shifted = shifted.upper()  # Convert back to uppercase if it was uppercase\n",
    "            result += shifted\n",
    "        else:\n",
    "            result += char  # Keep non-alphabetic characters unchanged\n",
    "\n",
    "    return result\n",
    "\n",
    "# Example usage:\n",
    "encoded_text = \"Khoor, Zruog!\"\n",
    "shift_value = 3\n",
    "decoded_text = caesar_decipher(encoded_text, shift_value)\n",
    "print(\"Encoded Text:\", encoded_text)\n",
    "print(\"Decoded Text:\", decoded_text)"
   ]
  },
  {
   "cell_type": "code",
   "execution_count": 28,
   "id": "74fa4656",
   "metadata": {},
   "outputs": [],
   "source": [
    "def caeser_decipher(text,shift):\n",
    "    result=''\n",
    "    for char in text:\n",
    "        if char.isalpha():\n",
    "            is_upper=char.isupper()\n",
    "            char=char.lower()\n",
    "            shifted=chr((ord(char)-ord('a')-shift)+ord('a'))\n",
    "            if is_upper:\n",
    "                shifted=shifted.upper()\n",
    "            result+=shifted\n",
    "        else:\n",
    "            result+=char\n",
    "    return result"
   ]
  },
  {
   "cell_type": "code",
   "execution_count": 30,
   "id": "8f02ab6d",
   "metadata": {},
   "outputs": [
    {
     "data": {
      "text/plain": [
       "'Hello, World!'"
      ]
     },
     "execution_count": 30,
     "metadata": {},
     "output_type": "execute_result"
    }
   ],
   "source": [
    "caeser_decipher(\"Khoor, Zruog!\",3)"
   ]
  },
  {
   "cell_type": "code",
   "execution_count": 32,
   "id": "df800971",
   "metadata": {},
   "outputs": [],
   "source": [
    "#44. Find the most frequent word in a string.\n",
    "\n"
   ]
  },
  {
   "cell_type": "code",
   "execution_count": null,
   "id": "4df93fb7",
   "metadata": {},
   "outputs": [],
   "source": [
    "def most_frequent_word(input_string):\n",
    "    # Split the input string into words\n",
    "    words = input_string.split()\n",
    "\n",
    "    # Create a dictionary to store word frequencies\n",
    "    word_freq = {}\n",
    "\n",
    "    # Iterate through the words and update the dictionary\n",
    "    for word in words:\n",
    "        # Remove punctuation and convert to lowercase (optional)\n",
    "        word = word.strip('.,!?()[]{}\"\\'').lower()\n",
    "        \n",
    "        if word in word_freq:\n",
    "            word_freq[word] += 1\n",
    "        else:\n",
    "            word_freq[word] = 1\n",
    "\n",
    "    # Find the word with the highest frequency\n",
    "    most_frequent = max(word_freq, key=word_freq.get)\n",
    "    return most_frequent\n",
    "\n",
    "# Example usage:\n",
    "input_string = \"This is a sample string. This string contains some sample words.\"\n",
    "result = most_frequent_word(input_string)\n",
    "print(\"The most frequent word is:\", result)\n"
   ]
  },
  {
   "cell_type": "code",
   "execution_count": 41,
   "id": "83981726",
   "metadata": {},
   "outputs": [
    {
     "name": "stdout",
     "output_type": "stream",
     "text": [
      "The most frequent word is: this\n"
     ]
    }
   ],
   "source": [
    "def most_frequent_word(input_string):\n",
    "    # Split the input string into words\n",
    "    words = input_string.split()\n",
    "\n",
    "    # Create a dictionary to store word frequencies\n",
    "    word_freq = {}\n",
    "\n",
    "    # Iterate through the words and update the dictionary\n",
    "    for word in words:\n",
    "        # Remove punctuation and convert to lowercase (optional)\n",
    "        word = word.strip('.,!?()[]{}\"\\'').lower()\n",
    "        \n",
    "        if word in word_freq:\n",
    "            word_freq[word] += 1\n",
    "        else:\n",
    "            word_freq[word] = 1\n",
    "\n",
    "    # Find the word with the highest frequency\n",
    "    most_frequent = max(word_freq, key=lambda x: word_freq[x] )\n",
    "    return most_frequent\n",
    "\n",
    "# Example usage:\n",
    "input_string = \"This is a sample string. This string contains some sample words.\"\n",
    "result = most_frequent_word(input_string)\n",
    "print(\"The most frequent word is:\", result)"
   ]
  },
  {
   "cell_type": "code",
   "execution_count": 34,
   "id": "82c82e13",
   "metadata": {},
   "outputs": [],
   "source": [
    "dct={'a':11,'b':22,'c':33}"
   ]
  },
  {
   "cell_type": "code",
   "execution_count": 36,
   "id": "78368aef",
   "metadata": {},
   "outputs": [
    {
     "data": {
      "text/plain": [
       "'c'"
      ]
     },
     "execution_count": 36,
     "metadata": {},
     "output_type": "execute_result"
    }
   ],
   "source": [
    "max(dct,key=dct.get)"
   ]
  },
  {
   "cell_type": "code",
   "execution_count": 37,
   "id": "a44fac8c",
   "metadata": {},
   "outputs": [
    {
     "name": "stdout",
     "output_type": "stream",
     "text": [
      "Key with maximum value: cherry\n"
     ]
    }
   ],
   "source": [
    "my_dict = {\"apple\": 3, \"banana\": 2, \"cherry\": 5, \"date\": 1}\n",
    "\n",
    "# Find the key corresponding to the maximum value\n",
    "max_key = max(my_dict, key=my_dict.get)\n",
    "\n",
    "print(\"Key with maximum value:\", max_key)\n"
   ]
  },
  {
   "cell_type": "code",
   "execution_count": 38,
   "id": "f2c7824e",
   "metadata": {},
   "outputs": [
    {
     "name": "stdout",
     "output_type": "stream",
     "text": [
      "Keys sorted by values in ascending order: ['date', 'banana', 'apple', 'cherry']\n"
     ]
    }
   ],
   "source": [
    "my_dict = {\"apple\": 3, \"banana\": 2, \"cherry\": 5, \"date\": 1}\n",
    "\n",
    "# Sort the dictionary by values in ascending order\n",
    "sorted_keys = sorted(my_dict, key=my_dict.get)\n",
    "\n",
    "print(\"Keys sorted by values in ascending order:\", sorted_keys)\n"
   ]
  },
  {
   "cell_type": "code",
   "execution_count": 39,
   "id": "dbd24fb8",
   "metadata": {},
   "outputs": [
    {
     "name": "stdout",
     "output_type": "stream",
     "text": [
      "Keys sorted by values in ascending order: ['date', 'banana', 'apple', 'cherry']\n"
     ]
    }
   ],
   "source": [
    "my_dict = {\"apple\": 3, \"banana\": 2, \"cherry\": 5, \"date\": 1}\n",
    "\n",
    "# Sort the dictionary by values in ascending order using a lambda function\n",
    "sorted_keys = sorted(my_dict, key=lambda x: my_dict[x])\n",
    "\n",
    "print(\"Keys sorted by values in ascending order:\", sorted_keys)\n"
   ]
  },
  {
   "cell_type": "code",
   "execution_count": null,
   "id": "a11d1b82",
   "metadata": {},
   "outputs": [],
   "source": [
    "my_dict = {\"apple\": 3, \"banana\": 2, \"cherry\": 5, \"date\": 1}\n",
    "\n",
    "# Find the key corresponding to the maximum value using a lambda function\n",
    "max_key = max(my_dict, key=lambda x: my_dict[x])\n",
    "\n",
    "print(\"Key with maximum value:\", max_key)\n"
   ]
  },
  {
   "cell_type": "code",
   "execution_count": 42,
   "id": "395ca01a",
   "metadata": {},
   "outputs": [
    {
     "name": "stdout",
     "output_type": "stream",
     "text": [
      "Unique words: ['a', 'sample', 'sentence', 'this', 'string', 'is']\n"
     ]
    }
   ],
   "source": [
    "#45. Find all unique words in a string.\n",
    "\n",
    "import re\n",
    "\n",
    "def unique_words(input_string):\n",
    "    # Tokenize the string into words (split by whitespace and remove punctuation)\n",
    "    words = re.findall(r'\\w+', input_string.lower())\n",
    "\n",
    "    # Use a set to collect unique words\n",
    "    unique_word_set = set(words)\n",
    "\n",
    "    return list(unique_word_set)\n",
    "\n",
    "# Example usage:\n",
    "input_str = \"This is a sample string. This is a sample sentence.\"\n",
    "unique_word_list = unique_words(input_str)\n",
    "print(\"Unique words:\", unique_word_list)\n"
   ]
  },
  {
   "cell_type": "code",
   "execution_count": null,
   "id": "336b2451",
   "metadata": {},
   "outputs": [],
   "source": [
    "\n",
    "In this code:\n",
    "\n",
    "    We use the re.findall() function with a regular expression pattern (r'\\w+') to tokenize the input string into words.\n",
    "    This pattern matches sequences of word characters (letters, digits, and underscores).\n",
    "\n",
    "\n",
    "    We convert all the words to lowercase to make the comparison case-insensitive.\n",
    "\n",
    "    We use a set (unique_word_set) to collect unique words. Sets automatically remove duplicates, ensuring that only unique words are retained.\n",
    "\n",
    "    Finally, we convert the set back to a list to return a list of unique words.\n",
    "\n",
    "When you run this code with the example input string, it will find and print the unique words:\n",
    "\n",
    "less\n",
    "\n",
    "Unique words: ['string', 'a', 'sample', 'is', 'this', 'sentence']\n",
    "\n",
    "This code extracts and lists all the unique words present in the input string, which can be helpful for various text analysis and processing tasks where you want to identify distinct words in the text.\n"
   ]
  },
  {
   "cell_type": "code",
   "execution_count": 43,
   "id": "bc21c920",
   "metadata": {},
   "outputs": [],
   "source": [
    "#46. Count the number of syllables in a string."
   ]
  },
  {
   "cell_type": "code",
   "execution_count": 46,
   "id": "3a45fbfd",
   "metadata": {},
   "outputs": [
    {
     "name": "stdout",
     "output_type": "stream",
     "text": [
      "['e', 'o']\n",
      "['o']\n",
      "['a', 'e']\n",
      "['you']\n",
      "['oi']\n",
      "['o', 'ay']\n",
      "Syllable count: 9\n"
     ]
    }
   ],
   "source": [
    "\n",
    "\n",
    "import re\n",
    "\n",
    "def count_syllables(input_string):\n",
    "    # Tokenize the string into words (split by whitespace)\n",
    "    words = input_string.split()\n",
    "\n",
    "    # Initialize a count for syllables\n",
    "    syllable_count = 0\n",
    "\n",
    "    for word in words:\n",
    "        # Use a regular expression to find vowel sequences (ignoring case)\n",
    "        vowels = re.findall(r'[aeiouy]+', word, re.I)\n",
    "        print(vowels)\n",
    "        # Increment the syllable count based on the number of vowel sequences\n",
    "        syllable_count += len(vowels)\n",
    "\n",
    "    return syllable_count\n",
    "\n",
    "# Example usage:\n",
    "input_str = \"Hello, how are you doing today?\"\n",
    "syllables = count_syllables(input_str)\n",
    "print(\"Syllable count:\", syllables)\n"
   ]
  },
  {
   "cell_type": "code",
   "execution_count": 50,
   "id": "9c037543",
   "metadata": {},
   "outputs": [
    {
     "data": {
      "text/plain": [
       "9"
      ]
     },
     "execution_count": 50,
     "metadata": {},
     "output_type": "execute_result"
    }
   ],
   "source": [
    "import re\n",
    "\n",
    "def count_syllables(text):\n",
    "    words=text.split()\n",
    "    syllable_count=0\n",
    "    for word in words:\n",
    "        vowels=re.findall(r'[aeiou]+',word,re.I)\n",
    "        \n",
    "        syllable_count+=len(vowels)\n",
    "    return syllable_count\n",
    "\n",
    "count_syllables(\"Hello, how are you doing today?\")"
   ]
  },
  {
   "cell_type": "code",
   "execution_count": null,
   "id": "7bacece1",
   "metadata": {},
   "outputs": [],
   "source": [
    "\n",
    "In this code:\n",
    "\n",
    "    We tokenize the input string into words by splitting it using whitespace.\n",
    "\n",
    "    We initialize a syllable_count variable to keep track of the total syllables.\n",
    "\n",
    "    For each word, we use a regular expression (re.findall()) to find sequences of vowels\n",
    "    (ignoring case). In English, syllables are often associated with vowel sequences.\n",
    "\n",
    "    We increment the syllable_count by the number of vowel sequences found in each word.\n",
    "\n",
    "    Finally, we return the total syllable count.\n",
    "\n",
    "Please note that this is a basic and heuristic approach to counting syllables.\n",
    "It may not be entirely accurate for all words and languages, as English syllable rules can be \n",
    "complex and context-dependent. For more accurate syllable counting, you might need to consider \n",
    "specialized libraries and dictionaries for specific languages or use natural language processing (NLP)\n",
    "techniques.\n",
    "\n",
    "\n",
    "In Python's re module, the re.I flag (short for \"ignore case\") is used as an optional \n",
    "argument when compiling a regular expression pattern using the re.compile() function\n",
    "or when applying it directly with functions like re.search() and re.findall(). \n",
    "This flag modifies the behavior of the regular expression matching to make it case-insensitive."
   ]
  },
  {
   "cell_type": "code",
   "execution_count": 54,
   "id": "854f714e",
   "metadata": {},
   "outputs": [
    {
     "data": {
      "text/plain": [
       "9"
      ]
     },
     "execution_count": 54,
     "metadata": {},
     "output_type": "execute_result"
    }
   ],
   "source": [
    "import re\n",
    "\n",
    "def count_syllables(string):\n",
    "    syllable_count=0\n",
    "    words=string.split()\n",
    "    \n",
    "    for word in words:\n",
    "        vowels=re.findall(r'[aeiou]+',word,re.I)\n",
    "        syllable_count+=len(vowels)\n",
    "        \n",
    "    return syllable_count\n",
    "\n",
    "count_syllables(\"Hello, how are you doing today?\")"
   ]
  },
  {
   "cell_type": "code",
   "execution_count": 55,
   "id": "e7ea331f",
   "metadata": {},
   "outputs": [
    {
     "data": {
      "text/plain": [
       "9"
      ]
     },
     "execution_count": 55,
     "metadata": {},
     "output_type": "execute_result"
    }
   ],
   "source": [
    "import re\n",
    "\n",
    "def count_syllables(string):\n",
    "    syllable_count=0\n",
    "    words=string.split()\n",
    "    \n",
    "    for word in words:\n",
    "        vowels=re.findall(r'[aeiou]+',word,re.I)\n",
    "        syllable_count+=len(vowels)\n",
    "        \n",
    "    return syllable_count\n",
    "\n",
    "count_syllables(\"Hello, how are you doing today?\")"
   ]
  },
  {
   "cell_type": "code",
   "execution_count": 56,
   "id": "15bcf97f",
   "metadata": {},
   "outputs": [
    {
     "data": {
      "text/plain": [
       "9"
      ]
     },
     "execution_count": 56,
     "metadata": {},
     "output_type": "execute_result"
    }
   ],
   "source": [
    "def count_syllables(string):\n",
    "    syllable_count=0\n",
    "    words=string.split()\n",
    "    \n",
    "    for word in words:\n",
    "        vowels=re.findall(r'[aeiou]+',word,re.I)\n",
    "        syllable_count+=len(vowels)\n",
    "        \n",
    "    return syllable_count\n",
    "\n",
    "count_syllables(\"Hello, how are you doing today?\")"
   ]
  },
  {
   "cell_type": "code",
   "execution_count": 57,
   "id": "292ecfca",
   "metadata": {},
   "outputs": [
    {
     "name": "stdout",
     "output_type": "stream",
     "text": [
      "['3', '5']\n"
     ]
    }
   ],
   "source": [
    "#use of findall\n",
    "\n",
    "\n",
    "import re\n",
    "\n",
    "# Define a regular expression pattern\n",
    "pattern = r'\\d+'  # Matches one or more digits\n",
    "\n",
    "# Input string\n",
    "text = \"I have 3 apples and you have 5 bananas.\"\n",
    "\n",
    "# Use findall to find all occurrences of the pattern\n",
    "matches = re.findall(pattern, text)\n",
    "\n",
    "# Print the matches\n",
    "print(matches)"
   ]
  },
  {
   "cell_type": "code",
   "execution_count": 58,
   "id": "6fa0dcd8",
   "metadata": {},
   "outputs": [
    {
     "name": "stdout",
     "output_type": "stream",
     "text": [
      "['3', '5']\n"
     ]
    }
   ],
   "source": [
    "import re\n",
    "\n",
    "pattern=r'\\d+'\n",
    "text=\"I have 3 apples and you have 5 bananas.\"\n",
    "\n",
    "matches=re.findall(pattern,text)\n",
    "print(matches)"
   ]
  },
  {
   "cell_type": "code",
   "execution_count": null,
   "id": "5a7d9c95",
   "metadata": {},
   "outputs": [],
   "source": [
    "#47. Check if a string contains any special characters.\n"
   ]
  },
  {
   "cell_type": "code",
   "execution_count": null,
   "id": "e6d49f2c",
   "metadata": {},
   "outputs": [],
   "source": [
    "\n",
    "import re\n",
    "\n",
    "def contains_special_characters(input_string):\n",
    "    # Define a regular expression pattern to match special characters\n",
    "    pattern = r'[!@#$%^&*()_+{}\\[\\]:;<>,.?~\\\\|]'\n",
    "\n",
    "    # Use re.search() to check if the pattern is found in the string\n",
    "    if re.search(pattern, input_string):\n",
    "        return True\n",
    "    else:\n",
    "        return False\n",
    "\n",
    "# Example usage:\n",
    "input_str = \"Hello, this is a string with @ and $ symbols.\"\n",
    "if contains_special_characters(input_str):\n",
    "    print(\"The string contains special characters.\")\n",
    "else:\n",
    "    print(\"The string does not contain special characters.\")"
   ]
  },
  {
   "cell_type": "code",
   "execution_count": null,
   "id": "6a29b058",
   "metadata": {},
   "outputs": [],
   "source": [
    "The re.search() function in \n",
    "Python's re module is used to search for a specified pattern within a given string."
   ]
  },
  {
   "cell_type": "code",
   "execution_count": 61,
   "id": "faa1efe5",
   "metadata": {},
   "outputs": [
    {
     "name": "stdout",
     "output_type": "stream",
     "text": [
      "Pattern found: apple\n"
     ]
    }
   ],
   "source": [
    "import re\n",
    "\n",
    "# Define a pattern to search for a word\n",
    "pattern = r\"apple\"\n",
    "\n",
    "# Input string\n",
    "input_string = \"I have an apple and a banana. \"\n",
    "\n",
    "# Search for the pattern in the input string\n",
    "match = re.search(pattern, input_string, re.IGNORECASE)\n",
    "\n",
    "if match:\n",
    "    print(\"Pattern found:\", match.group())\n",
    "else:\n",
    "    print(\"Pattern not found.\")\n"
   ]
  },
  {
   "cell_type": "code",
   "execution_count": 62,
   "id": "37bf0aa6",
   "metadata": {},
   "outputs": [
    {
     "name": "stdout",
     "output_type": "stream",
     "text": [
      "The string contains special characters.\n"
     ]
    }
   ],
   "source": [
    "import string\n",
    "\n",
    "def contains_special_characters(input_string):\n",
    "    # Iterate through the characters in the input string\n",
    "    for char in input_string:\n",
    "        # If the character is in string.punctuation, it's a special character\n",
    "        if char in string.punctuation:\n",
    "            return True\n",
    "\n",
    "    # If no special characters were found, return False\n",
    "    return False\n",
    "\n",
    "# Example usage:\n",
    "input_str = \"Hello, this is a string with @ and $ symbols.\"\n",
    "if contains_special_characters(input_str):\n",
    "    print(\"The string contains special characters.\")\n",
    "else:\n",
    "    print(\"The string does not contain special characters.\")\n",
    "\n"
   ]
  },
  {
   "cell_type": "code",
   "execution_count": 67,
   "id": "b0d9e83d",
   "metadata": {},
   "outputs": [
    {
     "data": {
      "text/plain": [
       "True"
      ]
     },
     "execution_count": 67,
     "metadata": {},
     "output_type": "execute_result"
    }
   ],
   "source": [
    "import re\n",
    "\n",
    "def find_special_characters(text):\n",
    "    pattern=r'[!@#$%^&*()_+{}\\[\\]:;<>,.?~\\\\|]'\n",
    "    \n",
    "    if re.search(pattern,text):\n",
    "        return True\n",
    "    else:\n",
    "        return False\n",
    "    \n",
    "    \n",
    "find_special_characters(\"Hello, this is a string with @ and $ symbols.\")\n",
    "    "
   ]
  },
  {
   "cell_type": "code",
   "execution_count": null,
   "id": "a57ed593",
   "metadata": {},
   "outputs": [],
   "source": [
    "\n",
    "re.match,\n",
    "re.search,\n",
    "re.findall, \n",
    "re.sub\n",
    "\n"
   ]
  },
  {
   "cell_type": "code",
   "execution_count": 68,
   "id": "f7dcbe90",
   "metadata": {},
   "outputs": [
    {
     "name": "stdout",
     "output_type": "stream",
     "text": [
      "Original String: This is a sample sentence to demonstrate word removal.\n",
      "Result String: This is a sentence to demonstrate word removal.\n"
     ]
    }
   ],
   "source": [
    "#48. Remove the nth word from a string.\n",
    "\n",
    "def remove_nth_word(input_string, n):\n",
    "    # Tokenize the string into words (split by whitespace)\n",
    "    words = input_string.split()\n",
    "\n",
    "    # Check if n is a valid index\n",
    "    if 1 <= n <= len(words):\n",
    "        # Remove the nth word\n",
    "        del words[n - 1]\n",
    "        #words.pop(n-1)\n",
    "\n",
    "        # Reconstruct the string without the removed word\n",
    "        result = ' '.join(words)\n",
    "        return result\n",
    "    else:\n",
    "        # If n is not a valid index, return the original string\n",
    "        return input_string\n",
    "\n",
    "# Example usage:\n",
    "input_str = \"This is a sample sentence to demonstrate word removal.\"\n",
    "n = 4  # Remove the fourth word (index 3)\n",
    "result_str = remove_nth_word(input_str, n)\n",
    "print(\"Original String:\", input_str)\n",
    "print(\"Result String:\", result_str)\n",
    "\n"
   ]
  },
  {
   "cell_type": "code",
   "execution_count": 69,
   "id": "fe87d3e9",
   "metadata": {},
   "outputs": [
    {
     "name": "stdout",
     "output_type": "stream",
     "text": [
      "Original String: This is a sample sentence to demonstrate word insertion.\n",
      "Result String: This is a sample sentence new to demonstrate word insertion.\n"
     ]
    }
   ],
   "source": [
    "#49. Insert a word at the nth position in a string.\n",
    "\n",
    "def insert_word_at_nth_position(input_string, new_word, n):\n",
    "    # Tokenize the string into words (split by whitespace)\n",
    "    words = input_string.split()\n",
    "\n",
    "    # Check if n is a valid position\n",
    "    if 0 <= n <= len(words):\n",
    "        # Insert the new word at the specified position\n",
    "        words.insert(n, new_word)\n",
    "\n",
    "        # Reconstruct the string with the inserted word\n",
    "        result = ' '.join(words)\n",
    "        return result\n",
    "    else:\n",
    "        # If n is not a valid position, return the original string\n",
    "        return input_string\n",
    "\n",
    "# Example usage:\n",
    "input_str = \"This is a sample sentence to demonstrate word insertion.\"\n",
    "new_word = \"new\"\n",
    "n = 5  # Insert the new word at the fifth position (index 4)\n",
    "result_str = insert_word_at_nth_position(input_str, new_word, n)\n",
    "print(\"Original String:\", input_str)\n",
    "print(\"Result String:\", result_str)\n"
   ]
  },
  {
   "cell_type": "code",
   "execution_count": 77,
   "id": "1096ea6f",
   "metadata": {},
   "outputs": [
    {
     "data": {
      "text/plain": [
       "[1, 2, 3, 5]"
      ]
     },
     "execution_count": 77,
     "metadata": {},
     "output_type": "execute_result"
    }
   ],
   "source": [
    "l=[1,2,3]\n",
    "l.insert(3,5)\n",
    "l"
   ]
  },
  {
   "cell_type": "code",
   "execution_count": 75,
   "id": "0f6c4d09",
   "metadata": {},
   "outputs": [],
   "source": [
    "#50. Convert a CSV string to a list of lists.\n",
    "\n"
   ]
  },
  {
   "cell_type": "code",
   "execution_count": 78,
   "id": "8b70be2c",
   "metadata": {},
   "outputs": [
    {
     "name": "stdout",
     "output_type": "stream",
     "text": [
      "['Name', 'Age', 'Location']\n",
      "['John', '30', 'New York']\n",
      "['Alice', '25', 'Los Angeles']\n"
     ]
    }
   ],
   "source": [
    "import csv\n",
    "from io import StringIO\n",
    "\n",
    "def csv_string_to_list(csv_string):\n",
    "    # Create a StringIO object to simulate a file-like object\n",
    "    csv_file = StringIO(csv_string)\n",
    "\n",
    "    # Initialize a CSV reader with a comma delimiter\n",
    "    csv_reader = csv.reader(csv_file, delimiter=',')\n",
    "\n",
    "    # Convert the CSV data to a list of lists\n",
    "    csv_data = [row for row in csv_reader]\n",
    "\n",
    "    return csv_data\n",
    "\n",
    "# Example usage:\n",
    "csv_string = \"Name,Age,Location\\nJohn,30,New York\\nAlice,25,Los Angeles\"\n",
    "result_list = csv_string_to_list(csv_string)\n",
    "for row in result_list:\n",
    "    print(row)\n",
    "\n",
    "    \n",
    "    "
   ]
  },
  {
   "cell_type": "code",
   "execution_count": null,
   "id": "7c532564",
   "metadata": {},
   "outputs": [],
   "source": [
    "The csv.reader is a built-in module in Python that is part of the csv module.\n",
    "It provides a way to read and parse CSV (Comma-Separated Values) files line by line.\n",
    "The csv.reader object allows you to iterate over the rows of a CSV file.\n",
    "\n",
    "StringIO is a class in Python's io module that allows you to work with strings as file-like objects.\n",
    "It provides a way to read from or write to strings as if they were files."
   ]
  },
  {
   "cell_type": "code",
   "execution_count": null,
   "id": "0394a13e",
   "metadata": {},
   "outputs": [],
   "source": [
    "A CSV file, which stands for \"Comma-Separated Values,\" is a plain text file format commonly used for storing and exchanging tabular data.\n",
    "In a CSV file, data is organized into rows and columns, with each row representing a record or data entry, and each column representing a\n",
    "specific data field or attribute."
   ]
  },
  {
   "cell_type": "code",
   "execution_count": null,
   "id": "0311c1b1",
   "metadata": {},
   "outputs": [],
   "source": [
    "import csv: This line imports the csv module, which provides functions for working with CSV files.\n",
    "\n",
    "from io import StringIO: This line imports the StringIO class from the io module. StringIO is used to create a file-like object from a string, which can then be passed to the CSV reader for parsing.\n",
    "\n",
    "Inside the function:\n",
    "\n",
    "    csv_file = StringIO(csv_string): This line creates a StringIO object named csv_file and initializes it with the csv_string. This allows you to treat the csv_file as a file-like object that can be read by the CSV reader.\n",
    "\n",
    "    csv_reader = csv.reader(csv_file, delimiter=','): Here, a CSV reader is created using the csv.reader function. The csv_file is passed as the input, and the delimiter parameter is set to a comma (,), indicating that the CSV data is separated by commas.\n",
    "\n",
    "    csv_data = [row for row in csv_reader]: This list comprehension reads the CSV data using the CSV reader and converts it into a list of lists. Each inner list corresponds to a row in the CSV data.\n",
    "\n",
    "    Finally, the function returns the csv_data, which is a list of lists representing the CSV data."
   ]
  }
 ],
 "metadata": {
  "kernelspec": {
   "display_name": "Python 3 (ipykernel)",
   "language": "python",
   "name": "python3"
  },
  "language_info": {
   "codemirror_mode": {
    "name": "ipython",
    "version": 3
   },
   "file_extension": ".py",
   "mimetype": "text/x-python",
   "name": "python",
   "nbconvert_exporter": "python",
   "pygments_lexer": "ipython3",
   "version": "3.9.17"
  }
 },
 "nbformat": 4,
 "nbformat_minor": 5
}
